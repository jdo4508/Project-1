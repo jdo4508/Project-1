{
 "cells": [
  {
   "cell_type": "markdown",
   "metadata": {},
   "source": [
    "# The Data Exploration and Clean Up Process\n"
   ]
  },
  {
   "cell_type": "markdown",
   "metadata": {},
   "source": [
    "I took the information from the api and created an all inclusive dataframe.  From there I determined different ways that the data might want to be used for analysis, charts and graphs.  \n",
    "\n",
    "First I had to group the counties of each State into one State row so that we could analyse at the state level.  Then realized that that affected the Median Income and Median Age columns since those values should not have been summed.  So I took a count of each of the counties in each state and divided the totals of the Median Income and Median Age by the county count for the that state.  \n",
    "\n",
    "Our group decided that we wanted to group some of the eduational colums together to make the charts a little more readable.  We decided to group No Highschool, Highschool, GED and Some College into a group called \"No College Degree\" and then group \"Associates Degree and Bachelors Degree into a group called \"Associates or College Degree\" and then group Professional Degree and Doctoral Degree into \"Post Graduate Degree.\"  \n",
    "\n",
    "I then thought that having a percent of the eduation groups could help in the group making tables and further analyzing the data.  And while I new we were focusing on the median income and eduacation levels, I went ahead and did race percentages incase we wanted to pull those in at some point.  \n",
    "\n",
    "I formatted the Median Income to dollars and the percentage columns to percent with 2 decimal places, but in hindsight I should not have done that because it added an extra step to some the charting.  For my part of the charting, I made a bar chart showing the top ten and bottom ten states by Median Income.  I filtered the dataframe by Median Income and pulled the top ten and bottom ten each into a dataframe and then merged those two dataframes to get the data to show on one chart.  I then decided on a stacked bar chart to show the percentages of the educations for those same states so I created a dataframe with the education percents to make the comprehensive stacked bar chart.  \n"
   ]
  }
 ],
 "metadata": {
  "kernelspec": {
   "display_name": "Python [conda env:.conda-pythondata] *",
   "language": "python",
   "name": "conda-env-.conda-pythondata-py"
  },
  "language_info": {
   "codemirror_mode": {
    "name": "ipython",
    "version": 3
   },
   "file_extension": ".py",
   "mimetype": "text/x-python",
   "name": "python",
   "nbconvert_exporter": "python",
   "pygments_lexer": "ipython3",
   "version": "3.6.10"
  }
 },
 "nbformat": 4,
 "nbformat_minor": 4
}
