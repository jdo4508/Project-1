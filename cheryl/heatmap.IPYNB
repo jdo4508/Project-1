{
 "cells": [
  {
   "cell_type": "code",
   "execution_count": 1,
   "metadata": {},
   "outputs": [],
   "source": [
    "%matplotlib notebook\n",
    "%matplotlib inline\n",
    "# Dependencies\n",
    "from census import Census\n",
    "from config import (census_key, gkey)\n",
    "import gmaps\n",
    "import numpy as np\n",
    "import pandas as pd\n",
    "import requests\n",
    "import time\n",
    "from scipy.stats import linregress\n",
    "from matplotlib import pyplot as plt\n",
    "import json\n",
    "from pprint import pprint\n",
    "import os\n",
    "import random\n",
    "from itertools import accumulate\n",
    "import geopandas as gpd #pip install geopandas or conda install -c conda-forge geopandas\n",
    "from shapely.geometry import Point, Polygon #pip install shapely\n",
    "from descartes import PolygonPatch #pip install descartes\n",
    "import gmaps.geojson_geometries\n",
    "from matplotlib.cm import viridis\n",
    "from matplotlib.colors import to_hex\n",
    "from matplotlib import cm\n",
    "from matplotlib.colors import ListedColormap, LinearSegmentedColormap\n",
    "\n",
    "# Census API Key\n",
    "c = Census(census_key, year=2017)"
   ]
  },
  {
   "cell_type": "code",
   "execution_count": 2,
   "metadata": {},
   "outputs": [
    {
     "data": {
      "text/html": [
       "<div>\n",
       "<style scoped>\n",
       "    .dataframe tbody tr th:only-of-type {\n",
       "        vertical-align: middle;\n",
       "    }\n",
       "\n",
       "    .dataframe tbody tr th {\n",
       "        vertical-align: top;\n",
       "    }\n",
       "\n",
       "    .dataframe thead th {\n",
       "        text-align: right;\n",
       "    }\n",
       "</style>\n",
       "<table border=\"1\" class=\"dataframe\">\n",
       "  <thead>\n",
       "    <tr style=\"text-align: right;\">\n",
       "      <th></th>\n",
       "      <th>drawseq</th>\n",
       "      <th>state_abbr</th>\n",
       "      <th>state_fips</th>\n",
       "      <th>state_name</th>\n",
       "      <th>sub_region</th>\n",
       "      <th>geometry</th>\n",
       "    </tr>\n",
       "  </thead>\n",
       "  <tbody>\n",
       "    <tr>\n",
       "      <td>0</td>\n",
       "      <td>NaN</td>\n",
       "      <td>HI</td>\n",
       "      <td>15</td>\n",
       "      <td>Hawaii</td>\n",
       "      <td>Pacific</td>\n",
       "      <td>MULTIPOLYGON (((-160.07380 22.00418, -160.0497...</td>\n",
       "    </tr>\n",
       "    <tr>\n",
       "      <td>1</td>\n",
       "      <td>NaN</td>\n",
       "      <td>WA</td>\n",
       "      <td>53</td>\n",
       "      <td>Washington</td>\n",
       "      <td>Pacific</td>\n",
       "      <td>MULTIPOLYGON (((-122.40202 48.22522, -122.4628...</td>\n",
       "    </tr>\n",
       "    <tr>\n",
       "      <td>2</td>\n",
       "      <td>NaN</td>\n",
       "      <td>MT</td>\n",
       "      <td>30</td>\n",
       "      <td>Montana</td>\n",
       "      <td>Mountain</td>\n",
       "      <td>POLYGON ((-111.47543 44.70216, -111.48080 44.6...</td>\n",
       "    </tr>\n",
       "    <tr>\n",
       "      <td>3</td>\n",
       "      <td>NaN</td>\n",
       "      <td>ME</td>\n",
       "      <td>23</td>\n",
       "      <td>Maine</td>\n",
       "      <td>New England</td>\n",
       "      <td>MULTIPOLYGON (((-69.77728 44.07415, -69.85993 ...</td>\n",
       "    </tr>\n",
       "    <tr>\n",
       "      <td>4</td>\n",
       "      <td>NaN</td>\n",
       "      <td>ND</td>\n",
       "      <td>38</td>\n",
       "      <td>North Dakota</td>\n",
       "      <td>West North Central</td>\n",
       "      <td>POLYGON ((-98.73044 45.93827, -99.00683 45.939...</td>\n",
       "    </tr>\n",
       "  </tbody>\n",
       "</table>\n",
       "</div>"
      ],
      "text/plain": [
       "   drawseq state_abbr state_fips    state_name          sub_region  \\\n",
       "0      NaN         HI         15        Hawaii             Pacific   \n",
       "1      NaN         WA         53    Washington             Pacific   \n",
       "2      NaN         MT         30       Montana            Mountain   \n",
       "3      NaN         ME         23         Maine         New England   \n",
       "4      NaN         ND         38  North Dakota  West North Central   \n",
       "\n",
       "                                            geometry  \n",
       "0  MULTIPOLYGON (((-160.07380 22.00418, -160.0497...  \n",
       "1  MULTIPOLYGON (((-122.40202 48.22522, -122.4628...  \n",
       "2  POLYGON ((-111.47543 44.70216, -111.48080 44.6...  \n",
       "3  MULTIPOLYGON (((-69.77728 44.07415, -69.85993 ...  \n",
       "4  POLYGON ((-98.73044 45.93827, -99.00683 45.939...  "
      ]
     },
     "execution_count": 2,
     "metadata": {},
     "output_type": "execute_result"
    }
   ],
   "source": [
    "usa = gpd.read_file(\"states_21basic\")\n",
    "usa.head()"
   ]
  },
  {
   "cell_type": "code",
   "execution_count": 3,
   "metadata": {},
   "outputs": [],
   "source": [
    "# usa.plot()"
   ]
  },
  {
   "cell_type": "code",
   "execution_count": 4,
   "metadata": {
    "scrolled": true
   },
   "outputs": [],
   "source": [
    "gmaps.configure(api_key=gkey)\n",
    "\n",
    "counties_geojson = gmaps.geojson_geometries.load_geometry('us-counties')\n",
    "\n",
    "fig = gmaps.Map()\n",
    "\n",
    "gini_layer = gmaps.geojson_layer(counties_geojson)\n",
    "fig.add_layer(gini_layer)\n",
    "# fig"
   ]
  },
  {
   "cell_type": "code",
   "execution_count": 5,
   "metadata": {
    "scrolled": true
   },
   "outputs": [],
   "source": [
    "\n",
    "import csv\n",
    "\n",
    "with open('income.csv', newline='') as f:\n",
    "    reader = csv.reader(f)\n",
    "    res = list(map(tuple, reader))\n",
    "\n",
    "incomes= dict(res)\n",
    "\n",
    "# swapping FIPS and income so I can edit FIPS to have leading zeros\n",
    "incomess = {}\n",
    "for key, value in incomes.items():\n",
    "    incomess[value] = key\n",
    "# incomess\n"
   ]
  },
  {
   "cell_type": "code",
   "execution_count": 6,
   "metadata": {},
   "outputs": [],
   "source": [
    "# adding leading zeros to fips\n",
    "for k, v in incomess.items():\n",
    "    incomess[k] = str(v).zfill(3)\n",
    "# incomess"
   ]
  },
  {
   "cell_type": "code",
   "execution_count": 7,
   "metadata": {},
   "outputs": [],
   "source": [
    "# swapping back\n",
    "incomes = {}\n",
    "for key, value in incomess.items():\n",
    "    incomes[value] = key\n",
    "inc = {}\n",
    "for k, v in incomes.items():\n",
    "    inc[k] = float(v)\n",
    "# inc"
   ]
  },
  {
   "cell_type": "code",
   "execution_count": 8,
   "metadata": {},
   "outputs": [],
   "source": [
    "# counties_geojson['features']"
   ]
  },
  {
   "cell_type": "code",
   "execution_count": 9,
   "metadata": {},
   "outputs": [],
   "source": [
    "import matplotlib.pyplot as plt\n",
    "import matplotlib as mpl\n",
    "\n",
    "# convert values in dict to float\n",
    "values = [float(x) for x in list(incomes.values())]\n",
    "# We will need to scale the income values to lie between 0 and 1\n",
    "min_income = min(inc.values())\n",
    "max_income = max(inc.values())\n",
    "income_range = (max_income - min_income)\n",
    "\n",
    "def calculate_color(inc):\n",
    "\n",
    "    # make income a number between 0 and 1\n",
    "    normalized_income = (inc - min_income) / income_range\n",
    "\n",
    "    # invert income so that high inequality gives dark color\n",
    "    inverse_income = 1.0 - normalized_income\n",
    "\n",
    "    # transform the incomes coefficient to a matplotlib color\n",
    "    mpl_color = viridis(inverse_income)\n",
    "\n",
    "    # transform from a matplotlib color to a valid CSS color\n",
    "    gmaps_color = to_hex(mpl_color, keep_alpha=False)\n",
    "#     gmaps_color= gmaps_color\n",
    "    \n",
    "    return gmaps_color\n"
   ]
  },
  {
   "cell_type": "code",
   "execution_count": 10,
   "metadata": {},
   "outputs": [
    {
     "ename": "TypeError",
     "evalue": "unsupported operand type(s) for -: 'dict' and 'float'",
     "output_type": "error",
     "traceback": [
      "\u001b[1;31m---------------------------------------------------------------------------\u001b[0m",
      "\u001b[1;31mTypeError\u001b[0m                                 Traceback (most recent call last)",
      "\u001b[1;32m<ipython-input-10-30ad53bfdac3>\u001b[0m in \u001b[0;36m<module>\u001b[1;34m\u001b[0m\n\u001b[0;32m      4\u001b[0m     \u001b[1;32mtry\u001b[0m\u001b[1;33m:\u001b[0m\u001b[1;33m\u001b[0m\u001b[1;33m\u001b[0m\u001b[0m\n\u001b[0;32m      5\u001b[0m         \u001b[0mincom\u001b[0m \u001b[1;33m=\u001b[0m \u001b[0mincomes\u001b[0m\u001b[1;33m[\u001b[0m\u001b[0mcounty_FIPS\u001b[0m\u001b[1;33m]\u001b[0m\u001b[1;33m\u001b[0m\u001b[1;33m\u001b[0m\u001b[0m\n\u001b[1;32m----> 6\u001b[1;33m         \u001b[0mcolor\u001b[0m \u001b[1;33m=\u001b[0m \u001b[0mcalculate_color\u001b[0m\u001b[1;33m(\u001b[0m\u001b[0minc\u001b[0m\u001b[1;33m)\u001b[0m\u001b[1;33m\u001b[0m\u001b[1;33m\u001b[0m\u001b[0m\n\u001b[0m\u001b[0;32m      7\u001b[0m     \u001b[1;32mexcept\u001b[0m \u001b[0mKeyError\u001b[0m\u001b[1;33m:\u001b[0m\u001b[1;33m\u001b[0m\u001b[1;33m\u001b[0m\u001b[0m\n\u001b[0;32m      8\u001b[0m         \u001b[1;31m# no income for that county: return default color\u001b[0m\u001b[1;33m\u001b[0m\u001b[1;33m\u001b[0m\u001b[1;33m\u001b[0m\u001b[0m\n",
      "\u001b[1;32m<ipython-input-9-619a46724942>\u001b[0m in \u001b[0;36mcalculate_color\u001b[1;34m(inc)\u001b[0m\n\u001b[0;32m     12\u001b[0m \u001b[1;33m\u001b[0m\u001b[0m\n\u001b[0;32m     13\u001b[0m     \u001b[1;31m# make income a number between 0 and 1\u001b[0m\u001b[1;33m\u001b[0m\u001b[1;33m\u001b[0m\u001b[1;33m\u001b[0m\u001b[0m\n\u001b[1;32m---> 14\u001b[1;33m     \u001b[0mnormalized_income\u001b[0m \u001b[1;33m=\u001b[0m \u001b[1;33m(\u001b[0m\u001b[0minc\u001b[0m \u001b[1;33m-\u001b[0m \u001b[0mmin_income\u001b[0m\u001b[1;33m)\u001b[0m \u001b[1;33m/\u001b[0m \u001b[0mincome_range\u001b[0m\u001b[1;33m\u001b[0m\u001b[1;33m\u001b[0m\u001b[0m\n\u001b[0m\u001b[0;32m     15\u001b[0m \u001b[1;33m\u001b[0m\u001b[0m\n\u001b[0;32m     16\u001b[0m     \u001b[1;31m# invert income so that high inequality gives dark color\u001b[0m\u001b[1;33m\u001b[0m\u001b[1;33m\u001b[0m\u001b[1;33m\u001b[0m\u001b[0m\n",
      "\u001b[1;31mTypeError\u001b[0m: unsupported operand type(s) for -: 'dict' and 'float'"
     ]
    }
   ],
   "source": [
    "colors = []\n",
    "for feature in counties_geojson['features']:\n",
    "    county_FIPS = feature['properties']['COUNTY']\n",
    "    try:\n",
    "        incom = incomes[county_FIPS]\n",
    "        color = calculate_color(inc)\n",
    "    except KeyError:\n",
    "        # no income for that county: return default color\n",
    "        color = (0, 0, 0, 0.3)\n",
    "    colors.append(color)\n",
    "    \n",
    "colors"
   ]
  },
  {
   "cell_type": "code",
   "execution_count": null,
   "metadata": {},
   "outputs": [],
   "source": [
    "fig = gmaps.Map()\n",
    "income_layer = gmaps.geojson_layer(counties_geojson, fill_color=colors, stroke_color=colors, fill_opacity=0.8)\n",
    "fig.add_layer(income_layer)\n",
    "fig"
   ]
  },
  {
   "cell_type": "code",
   "execution_count": null,
   "metadata": {},
   "outputs": [],
   "source": [
    "education_percentages = pd.read_csv(\"education_percentages.csv\")\n",
    "education_percentages.head()"
   ]
  },
  {
   "cell_type": "code",
   "execution_count": null,
   "metadata": {},
   "outputs": [],
   "source": [
    "import gmaps.datasets\n",
    "rows = gmaps.datasets.load_dataset('gini') # 'rows' is a list of tuples\n",
    "country2gini = dict(rows) # dictionary mapping 'country' -> gini coefficient\n",
    "print(country2gini['United Kingdom'])\n",
    "rows"
   ]
  },
  {
   "cell_type": "code",
   "execution_count": null,
   "metadata": {},
   "outputs": [],
   "source": [
    "# We will need to scale the GINI values to lie between 0 and 1\n",
    "min_gini = min(country2gini.values())\n",
    "max_gini = max(country2gini.values())\n",
    "gini_range = max_gini - min_gini\n",
    "\n",
    "def calculate_color(gini):\n",
    "    \"\"\"\n",
    "    Convert the GINI coefficient to a color\n",
    "    \"\"\"\n",
    "    # make gini a number between 0 and 1\n",
    "    normalized_gini = (gini - min_gini) / gini_range\n",
    "\n",
    "    # invert gini so that high inequality gives dark color\n",
    "    inverse_gini = 1.0 - normalized_gini\n",
    "\n",
    "    # transform the gini coefficient to a matplotlib color\n",
    "    mpl_color = viridis(inverse_gini)\n",
    "\n",
    "    # transform from a matplotlib color to a valid CSS color\n",
    "    gmaps_color = to_hex(mpl_color, keep_alpha=False)\n",
    "\n",
    "    return gmaps_color\n"
   ]
  },
  {
   "cell_type": "code",
   "execution_count": null,
   "metadata": {},
   "outputs": [],
   "source": [
    "colors = []\n",
    "for feature in countries_geojson['features']:\n",
    "    country_name = feature['properties']['name']\n",
    "    try:\n",
    "        gini = country2gini[country_name]\n",
    "        color = calculate_color(gini)\n",
    "    except KeyError:\n",
    "        # no GINI for that country: return default color\n",
    "        color = (0, 0, 0, 0.3)\n",
    "    colors.append(color)"
   ]
  },
  {
   "cell_type": "code",
   "execution_count": null,
   "metadata": {},
   "outputs": [],
   "source": [
    "ethnicity_percentages = pd.read_csv(\"ethnicity_percentages.csv\")\n",
    "ethnicity_percentages.head()"
   ]
  },
  {
   "cell_type": "code",
   "execution_count": null,
   "metadata": {},
   "outputs": [],
   "source": [
    "income = pd.read_csv(\"income_median_age.csv\")\n",
    "income = income[[\"State Name\", \"Household Income\", \"Median Age\", \"Median Male Age\", \"Median Female Age\"]]\n",
    "income.head()"
   ]
  },
  {
   "cell_type": "code",
   "execution_count": null,
   "metadata": {},
   "outputs": [],
   "source": []
  },
  {
   "cell_type": "code",
   "execution_count": null,
   "metadata": {},
   "outputs": [],
   "source": []
  },
  {
   "cell_type": "code",
   "execution_count": null,
   "metadata": {},
   "outputs": [],
   "source": [
    "total_data = pd.read_csv(\"final_df.csv\")\n",
    "total_data.head()"
   ]
  },
  {
   "cell_type": "code",
   "execution_count": null,
   "metadata": {},
   "outputs": [],
   "source": [
    "gmaps.configure(api_key=gkey)"
   ]
  },
  {
   "cell_type": "code",
   "execution_count": null,
   "metadata": {},
   "outputs": [],
   "source": [
    "# state_coords = pd.DataFrame.from_dict(statecoords.items())\n",
    " \n",
    "# state_coords[0][0]"
   ]
  },
  {
   "cell_type": "code",
   "execution_count": null,
   "metadata": {},
   "outputs": [],
   "source": [
    "states = pd.read_csv(\"mycsvfile.csv\")\n",
    "for i in states:\n",
    "    print(i, states[i][:])"
   ]
  },
  {
   "cell_type": "code",
   "execution_count": null,
   "metadata": {},
   "outputs": [],
   "source": []
  },
  {
   "cell_type": "code",
   "execution_count": null,
   "metadata": {},
   "outputs": [],
   "source": []
  },
  {
   "cell_type": "code",
   "execution_count": null,
   "metadata": {},
   "outputs": [],
   "source": []
  },
  {
   "cell_type": "code",
   "execution_count": null,
   "metadata": {},
   "outputs": [],
   "source": []
  },
  {
   "cell_type": "code",
   "execution_count": null,
   "metadata": {},
   "outputs": [],
   "source": []
  }
 ],
 "metadata": {
  "kernelspec": {
   "display_name": "Python 3",
   "language": "python",
   "name": "python3"
  },
  "language_info": {
   "codemirror_mode": {
    "name": "ipython",
    "version": 3
   },
   "file_extension": ".py",
   "mimetype": "text/x-python",
   "name": "python",
   "nbconvert_exporter": "python",
   "pygments_lexer": "ipython3",
   "version": "3.7.4"
  }
 },
 "nbformat": 4,
 "nbformat_minor": 2
}
